{
 "cells": [
  {
   "cell_type": "markdown",
   "metadata": {},
   "source": [
    "# Intro to web scraping with BeautifulSoup"
   ]
  },
  {
   "cell_type": "markdown",
   "metadata": {},
   "source": [
    "### 1. Intro to HTML"
   ]
  },
  {
   "cell_type": "markdown",
   "metadata": {},
   "source": [
    "Before to try to scrap a web page we have to undertand what HTML is, how it looks like and how information is showed in a web page. "
   ]
  },
  {
   "cell_type": "markdown",
   "metadata": {},
   "source": [
    "Take a look a this HTML code and execute it:"
   ]
  },
  {
   "cell_type": "code",
   "execution_count": null,
   "metadata": {},
   "outputs": [],
   "source": [
    "%%HTML\n",
    "<html>  \n",
    "    <head>\n",
    "        <title>PyLadiesBCN HTML mini Tutorial</title>\n",
    "    </head>\n",
    "    <body>\n",
    "        <h1>PyLadiesBCN</h1>\n",
    "         <img src=\"https://www.pyladies.com/assets/images/pylady_geek.png\" width=\"200\" height=\"150\"</img>\n",
    "        \n",
    "        <h3> Welcome to Data, APIS and web scraping Workshop!!</h3>\n",
    "        \n",
    "        <p> Visit our GitHub\n",
    "        <a href=\"https://github.com/pyladies-bcn\">repository</a>\n",
    "        </p>\n",
    "        \n",
    "        <p> Or our twitter: \n",
    "        <a href=\"https://twitter.com/pyladiesbcn\">here</a>\n",
    "        </p>\n",
    "    <body>\n",
    "</html>"
   ]
  },
  {
   "cell_type": "markdown",
   "metadata": {},
   "source": [
    "<div class=\"alert alert-block alert-info\">\n",
    "Jupyter Notebook understand that code inside the follow cell is HTML by adding **%%HTML** magic command on top. If you want to learn more about cell magic and cells  you can visit this <a href=\"https://nbviewer.jupyter.org/github/ipython/ipython/blob/1.x/examples/notebooks/Cell%20Magics.ipynb\">tutorial</a>. \n",
    "</div>"
   ]
  },
  {
   "cell_type": "code",
   "execution_count": null,
   "metadata": {},
   "outputs": [],
   "source": [
    "%lsmagic"
   ]
  },
  {
   "cell_type": "markdown",
   "metadata": {},
   "source": [
    "Try now to visit this [web page](https://www.icc-cricket.com/rankings/womens/team-rankings/odi) about cricket ranking. Take a look to HTML code that generate this web page by mouse right-click and selecting **Inspect** or **Inspect this object** depending on Web browser you are using. "
   ]
  },
  {
   "cell_type": "markdown",
   "metadata": {},
   "source": [
    "### 2. Obtaining web page information"
   ]
  },
  {
   "cell_type": "code",
   "execution_count": null,
   "metadata": {},
   "outputs": [],
   "source": [
    "import requests\n",
    "\n",
    "page = requests.get(\"https://www.icc-cricket.com/rankings/womens/team-rankings/odi\")"
   ]
  },
  {
   "cell_type": "code",
   "execution_count": null,
   "metadata": {},
   "outputs": [],
   "source": [
    "page"
   ]
  },
  {
   "cell_type": "markdown",
   "metadata": {},
   "source": [
    "<div class=\"alert alert-block alert-info\">\n",
    "`<Response [200]>` indicates that has not been any problem with webpage and obtaining itsinformation. To know more about this library and possible excepctions please visit this <a href=\"http://docs.python-requests.org/en/master/api/#exceptions\">guide</a>\n",
    "</div>"
   ]
  },
  {
   "cell_type": "markdown",
   "metadata": {},
   "source": [
    "Request \"simulate\" you are asking to navigator for a particular web page. Request obtain all information contained in our desired webpage (all HTML webpage code). In this case all this information is stored in **page.content** variable:"
   ]
  },
  {
   "cell_type": "code",
   "execution_count": null,
   "metadata": {},
   "outputs": [],
   "source": [
    "page.content"
   ]
  },
  {
   "cell_type": "markdown",
   "metadata": {},
   "source": [
    "### 3. Searching and filtering data using BeautifulSoup"
   ]
  },
  {
   "cell_type": "markdown",
   "metadata": {},
   "source": [
    "But all this information in plain text is hard to manage or even find information of your interest. For this reason we use specialized functions like **BeautifulSoup**.  \n",
    "This library not only stores web pages information also undestand HTML tags and how information is stored in them. Take a lot what this library can do for us: "
   ]
  },
  {
   "cell_type": "code",
   "execution_count": null,
   "metadata": {},
   "outputs": [],
   "source": [
    "from bs4 import BeautifulSoup\n",
    "\n",
    "content = BeautifulSoup(page.content,\"html.parser\")"
   ]
  },
  {
   "cell_type": "code",
   "execution_count": null,
   "metadata": {},
   "outputs": [],
   "source": [
    "content"
   ]
  },
  {
   "cell_type": "markdown",
   "metadata": {},
   "source": [
    "We can now print out the HTML content of the page, formatted nicely, using the **prettify** method on **content** object:"
   ]
  },
  {
   "cell_type": "code",
   "execution_count": null,
   "metadata": {},
   "outputs": [],
   "source": [
    "print(content.prettify())"
   ]
  },
  {
   "cell_type": "markdown",
   "metadata": {},
   "source": [
    "From this point we can find desired information in HTML by HTML tag type. Take a look to following examples:"
   ]
  },
  {
   "cell_type": "code",
   "execution_count": null,
   "metadata": {},
   "outputs": [],
   "source": [
    "content.find_all('h3')"
   ]
  },
  {
   "cell_type": "code",
   "execution_count": null,
   "metadata": {},
   "outputs": [],
   "source": [
    "content.find_all('a')"
   ]
  },
  {
   "cell_type": "code",
   "execution_count": null,
   "metadata": {},
   "outputs": [],
   "source": [
    "content.find_all('img')"
   ]
  },
  {
   "cell_type": "markdown",
   "metadata": {},
   "source": [
    "But we are going to focus on getting classification table information. For this reason we have to *Inspect* desired webpage element and find its class type and name. In this case, classification is preceeded      by **`<div class=\"wrapper wrapper--sticky\">`** tag."
   ]
  },
  {
   "cell_type": "code",
   "execution_count": null,
   "metadata": {},
   "outputs": [],
   "source": [
    "data = content.find_all('div', class_='wrapper wrapper--sticky')\n",
    "\n",
    "data"
   ]
  },
  {
   "cell_type": "code",
   "execution_count": null,
   "metadata": {},
   "outputs": [],
   "source": [
    "len(data)"
   ]
  },
  {
   "cell_type": "markdown",
   "metadata": {},
   "source": [
    "<div class=\"alert alert-block alert-info\">\n",
    "**len(data) = 1** indicates that only one element acomplish **find_all** filter. If we know in advance, we can also use **find** estatement.\n",
    "</div>"
   ]
  },
  {
   "cell_type": "code",
   "execution_count": null,
   "metadata": {},
   "outputs": [],
   "source": [
    "data = content.find('div', class_='wrapper wrapper--sticky')"
   ]
  },
  {
   "cell_type": "markdown",
   "metadata": {},
   "source": [
    "Using prettify we can have more idea about table structure: "
   ]
  },
  {
   "cell_type": "code",
   "execution_count": null,
   "metadata": {},
   "outputs": [],
   "source": [
    "print(data.prettify())"
   ]
  },
  {
   "cell_type": "markdown",
   "metadata": {},
   "source": [
    "And we can also find elements into this part of webpage HTML code. Look at some examples:"
   ]
  },
  {
   "cell_type": "code",
   "execution_count": null,
   "metadata": {},
   "outputs": [],
   "source": [
    "data.find('h3', class_='widget__title')"
   ]
  },
  {
   "cell_type": "markdown",
   "metadata": {},
   "source": [
    "<div class=\"alert alert-block alert-info\">\n",
    "If we just want text inside desired element we use **.get_text()**\n",
    "</div>"
   ]
  },
  {
   "cell_type": "code",
   "execution_count": null,
   "metadata": {},
   "outputs": [],
   "source": [
    "title = data.find('h3', class_='widget__title').get_text()\n",
    "title"
   ]
  },
  {
   "cell_type": "code",
   "execution_count": null,
   "metadata": {},
   "outputs": [],
   "source": [
    "last_update = data.find('div', class_='rankings-table__last-updated').get_text()\n",
    "last_update"
   ]
  },
  {
   "cell_type": "markdown",
   "metadata": {},
   "source": [
    "Finally, we can only are interested to get table content:"
   ]
  },
  {
   "cell_type": "code",
   "execution_count": null,
   "metadata": {},
   "outputs": [],
   "source": [
    "table = data.find('table')\n",
    "\n",
    "table"
   ]
  },
  {
   "cell_type": "markdown",
   "metadata": {},
   "source": [
    "We are going to represent this information in HTML format:"
   ]
  },
  {
   "cell_type": "code",
   "execution_count": null,
   "metadata": {},
   "outputs": [],
   "source": [
    "%%HTML\n",
    "<table class=\"table\">\n",
    "    <thead>\n",
    "     <tr class=\"table-head\">\n",
    "      <th class=\"table-head__cell\">\n",
    "       Pos\n",
    "      </th>\n",
    "      <th class=\"table-head__cell rankings-table__team u-text-left\">\n",
    "       Team\n",
    "      </th>\n",
    "      <th class=\"table-head__cell\">\n",
    "       Weighted Matches\n",
    "      </th>\n",
    "      <th class=\"table-head__cell\">\n",
    "       Points\n",
    "      </th>\n",
    "      <th class=\"table-head__cell u-text-right rating\">\n",
    "       Rating\n",
    "      </th>\n",
    "     </tr>\n",
    "    </thead>\n",
    "    <tbody>\n",
    "     <tr class=\"table-body rankings-table__hero\" data-team-id=\"15\">\n",
    "      <td class=\"table-body__cell table-body__cell--position\">\n",
    "       1\n",
    "      </td>\n",
    "      <td class=\"table-body__cell rankings-table__team u-text-left\">\n",
    "       <span class=\"flag-15 table-body_logo AUS u-show-phablet u-hide-mobile\">\n",
    "       </span>\n",
    "       <span class=\"flag-30 table-body_logo AUS u-hide-phablet\">\n",
    "       </span>\n",
    "       Australia\n",
    "      </td>\n",
    "      <td class=\"table-body__cell\">\n",
    "       23\n",
    "      </td>\n",
    "      <td class=\"table-body__cell\">\n",
    "       3,275\n",
    "      </td>\n",
    "      <td class=\"table-body__cell u-text-right rating\">\n",
    "       142\n",
    "      </td>\n",
    "     </tr>\n",
    "     <tr class=\"table-body\" data-team-id=\"14\">\n",
    "      <td class=\"table-body__cell table-body__cell--position\">\n",
    "       2\n",
    "      </td>\n",
    "      <td class=\"table-body__cell rankings-table__team u-text-left\">\n",
    "       <span class=\"flag-15 table-body_logo IND u-hide-mobile\">\n",
    "       </span>\n",
    "       India\n",
    "      </td>\n",
    "      <td class=\"table-body__cell\">\n",
    "       31\n",
    "      </td>\n",
    "      <td class=\"table-body__cell\">\n",
    "       3,788\n",
    "      </td>\n",
    "      <td class=\"table-body__cell u-text-right rating\">\n",
    "       122\n",
    "      </td>\n",
    "     </tr>\n",
    "     <tr class=\"table-body\" data-team-id=\"11\">\n",
    "      <td class=\"table-body__cell table-body__cell--position\">\n",
    "       3\n",
    "      </td>\n",
    "      <td class=\"table-body__cell rankings-table__team u-text-left\">\n",
    "       <span class=\"flag-15 table-body_logo ENG u-hide-mobile\">\n",
    "       </span>\n",
    "       England\n",
    "      </td>\n",
    "      <td class=\"table-body__cell\">\n",
    "       25\n",
    "      </td>\n",
    "      <td class=\"table-body__cell\">\n",
    "       3,033\n",
    "      </td>\n",
    "      <td class=\"table-body__cell u-text-right rating\">\n",
    "       121\n",
    "      </td>\n",
    "     </tr>\n",
    "     <tr class=\"table-body\" data-team-id=\"16\">\n",
    "      <td class=\"table-body__cell table-body__cell--position\">\n",
    "       4\n",
    "      </td>\n",
    "      <td class=\"table-body__cell rankings-table__team u-text-left\">\n",
    "       <span class=\"flag-15 table-body_logo NZ u-hide-mobile\">\n",
    "       </span>\n",
    "       New Zealand\n",
    "      </td>\n",
    "      <td class=\"table-body__cell\">\n",
    "       31\n",
    "      </td>\n",
    "      <td class=\"table-body__cell\">\n",
    "       3,529\n",
    "      </td>\n",
    "      <td class=\"table-body__cell u-text-right rating\">\n",
    "       114\n",
    "      </td>\n",
    "     </tr>\n",
    "     <tr class=\"table-body\" data-team-id=\"19\">\n",
    "      <td class=\"table-body__cell table-body__cell--position\">\n",
    "       5\n",
    "      </td>\n",
    "      <td class=\"table-body__cell rankings-table__team u-text-left\">\n",
    "       <span class=\"flag-15 table-body_logo SA u-hide-mobile\">\n",
    "       </span>\n",
    "       South Africa\n",
    "      </td>\n",
    "      <td class=\"table-body__cell\">\n",
    "       39\n",
    "      </td>\n",
    "      <td class=\"table-body__cell\">\n",
    "       3,864\n",
    "      </td>\n",
    "      <td class=\"table-body__cell u-text-right rating\">\n",
    "       99\n",
    "      </td>\n",
    "     </tr>\n",
    "     <tr class=\"table-body\" data-team-id=\"21\">\n",
    "      <td class=\"table-body__cell table-body__cell--position\">\n",
    "       6\n",
    "      </td>\n",
    "      <td class=\"table-body__cell rankings-table__team u-text-left\">\n",
    "       <span class=\"flag-15 table-body_logo WI u-hide-mobile\">\n",
    "       </span>\n",
    "       West Indies\n",
    "      </td>\n",
    "      <td class=\"table-body__cell\">\n",
    "       22\n",
    "      </td>\n",
    "      <td class=\"table-body__cell\">\n",
    "       1,921\n",
    "      </td>\n",
    "      <td class=\"table-body__cell u-text-right rating\">\n",
    "       87\n",
    "      </td>\n",
    "     </tr>\n",
    "     <tr class=\"table-body\" data-team-id=\"20\">\n",
    "      <td class=\"table-body__cell table-body__cell--position\">\n",
    "       7\n",
    "      </td>\n",
    "      <td class=\"table-body__cell rankings-table__team u-text-left\">\n",
    "       <span class=\"flag-15 table-body_logo PAK u-hide-mobile\">\n",
    "       </span>\n",
    "       Pakistan\n",
    "      </td>\n",
    "      <td class=\"table-body__cell\">\n",
    "       26\n",
    "      </td>\n",
    "      <td class=\"table-body__cell\">\n",
    "       1,978\n",
    "      </td>\n",
    "      <td class=\"table-body__cell u-text-right rating\">\n",
    "       76\n",
    "      </td>\n",
    "     </tr>\n",
    "     <tr class=\"table-body\" data-team-id=\"13\">\n",
    "      <td class=\"table-body__cell table-body__cell--position\">\n",
    "       8\n",
    "      </td>\n",
    "      <td class=\"table-body__cell rankings-table__team u-text-left\">\n",
    "       <span class=\"flag-15 table-body_logo SL u-hide-mobile\">\n",
    "       </span>\n",
    "       Sri Lanka\n",
    "      </td>\n",
    "      <td class=\"table-body__cell\">\n",
    "       26\n",
    "      </td>\n",
    "      <td class=\"table-body__cell\">\n",
    "       1,478\n",
    "      </td>\n",
    "      <td class=\"table-body__cell u-text-right rating\">\n",
    "       57\n",
    "      </td>\n",
    "     </tr>\n",
    "     <tr class=\"table-body\" data-team-id=\"22\">\n",
    "      <td class=\"table-body__cell table-body__cell--position\">\n",
    "       9\n",
    "      </td>\n",
    "      <td class=\"table-body__cell rankings-table__team u-text-left\">\n",
    "       <span class=\"flag-15 table-body_logo BAN u-hide-mobile\">\n",
    "       </span>\n",
    "       Bangladesh\n",
    "      </td>\n",
    "      <td class=\"table-body__cell\">\n",
    "       13\n",
    "      </td>\n",
    "      <td class=\"table-body__cell\">\n",
    "       632\n",
    "      </td>\n",
    "      <td class=\"table-body__cell u-text-right rating\">\n",
    "       49\n",
    "      </td>\n",
    "     </tr>\n",
    "     <tr class=\"table-body\" data-team-id=\"12\">\n",
    "      <td class=\"table-body__cell table-body__cell--position\">\n",
    "       10\n",
    "      </td>\n",
    "      <td class=\"table-body__cell rankings-table__team u-text-left\">\n",
    "       <span class=\"flag-15 table-body_logo IRE u-hide-mobile\">\n",
    "       </span>\n",
    "       Ireland\n",
    "      </td>\n",
    "      <td class=\"table-body__cell\">\n",
    "       10\n",
    "      </td>\n",
    "      <td class=\"table-body__cell\">\n",
    "       211\n",
    "      </td>\n",
    "      <td class=\"table-body__cell u-text-right rating\">\n",
    "       21\n",
    "      </td>\n",
    "     </tr>\n",
    "    </tbody>\n",
    "   </table>"
   ]
  },
  {
   "cell_type": "code",
   "execution_count": null,
   "metadata": {},
   "outputs": [],
   "source": [
    "data.find('thead')"
   ]
  },
  {
   "cell_type": "code",
   "execution_count": null,
   "metadata": {},
   "outputs": [],
   "source": [
    "header = [item.get_text() for item in data.find('thead').find_all('th')]"
   ]
  },
  {
   "cell_type": "code",
   "execution_count": null,
   "metadata": {},
   "outputs": [],
   "source": [
    "header"
   ]
  },
  {
   "cell_type": "code",
   "execution_count": null,
   "metadata": {},
   "outputs": [],
   "source": [
    "header =[]\n",
    "\n",
    "for item in data.find('thead').find_all('th'):\n",
    "    header.append(item.get_text())\n",
    "    \n",
    "header"
   ]
  },
  {
   "cell_type": "code",
   "execution_count": null,
   "metadata": {},
   "outputs": [],
   "source": [
    "table_content =[]\n",
    "\n",
    "for tablerow in data.find('tbody').find_all('tr'):\n",
    "\n",
    "    table_row =[]\n",
    "    \n",
    "    for tableitem in tablerow.find_all('td'):\n",
    "        table_row.append(tableitem.get_text())\n",
    "        \n",
    "    table_content.append(table_row)\n",
    "    \n",
    "table_content"
   ]
  },
  {
   "cell_type": "markdown",
   "metadata": {},
   "source": [
    "### 4. Using Pandas to make information usable"
   ]
  },
  {
   "cell_type": "code",
   "execution_count": null,
   "metadata": {},
   "outputs": [],
   "source": [
    "import pandas as pd"
   ]
  },
  {
   "cell_type": "code",
   "execution_count": null,
   "metadata": {},
   "outputs": [],
   "source": [
    "df = pd.DataFrame(table_content,columns=header)"
   ]
  },
  {
   "cell_type": "code",
   "execution_count": null,
   "metadata": {},
   "outputs": [],
   "source": [
    "df"
   ]
  },
  {
   "cell_type": "code",
   "execution_count": null,
   "metadata": {},
   "outputs": [],
   "source": [
    "df[\"Points\"] = df[\"Points\"].str.replace(\",\",\"\").astype(int)\n",
    "df"
   ]
  },
  {
   "cell_type": "code",
   "execution_count": null,
   "metadata": {},
   "outputs": [],
   "source": [
    "df[\"Points\"].mean()"
   ]
  },
  {
   "cell_type": "code",
   "execution_count": null,
   "metadata": {},
   "outputs": [],
   "source": [
    "df[\"Points\"].min()"
   ]
  },
  {
   "cell_type": "code",
   "execution_count": null,
   "metadata": {},
   "outputs": [],
   "source": [
    "df.to_csv(title,index=False, sep=',')"
   ]
  },
  {
   "cell_type": "markdown",
   "metadata": {},
   "source": [
    "### 5. Pandas SUPERPOWERS in structured data"
   ]
  },
  {
   "cell_type": "code",
   "execution_count": null,
   "metadata": {},
   "outputs": [],
   "source": [
    "df2 = pd.read_html(\"https://www.icc-cricket.com/rankings/womens/team-rankings/odi\",attrs = {'class': 'table'})\n",
    "df2"
   ]
  },
  {
   "cell_type": "code",
   "execution_count": null,
   "metadata": {},
   "outputs": [],
   "source": [
    "df2[0]"
   ]
  },
  {
   "cell_type": "code",
   "execution_count": null,
   "metadata": {},
   "outputs": [],
   "source": [
    "df2 = df2[0]"
   ]
  },
  {
   "cell_type": "markdown",
   "metadata": {},
   "source": [
    "Pandas automatically recognise HTML tables and assign them properly properties to directly work with them."
   ]
  },
  {
   "cell_type": "code",
   "execution_count": null,
   "metadata": {},
   "outputs": [],
   "source": [
    "df2"
   ]
  },
  {
   "cell_type": "code",
   "execution_count": null,
   "metadata": {},
   "outputs": [],
   "source": [
    "df2['Team']"
   ]
  },
  {
   "cell_type": "code",
   "execution_count": null,
   "metadata": {},
   "outputs": [],
   "source": [
    "len(df2['Team'][0])"
   ]
  },
  {
   "cell_type": "code",
   "execution_count": null,
   "metadata": {},
   "outputs": [],
   "source": [
    "df2['Weighted Matches']"
   ]
  },
  {
   "cell_type": "code",
   "execution_count": null,
   "metadata": {},
   "outputs": [],
   "source": [
    "df2['Points']"
   ]
  },
  {
   "cell_type": "code",
   "execution_count": null,
   "metadata": {},
   "outputs": [],
   "source": [
    "df2['Rating']"
   ]
  },
  {
   "cell_type": "code",
   "execution_count": null,
   "metadata": {},
   "outputs": [],
   "source": [
    "df2['Points'].mean()"
   ]
  },
  {
   "cell_type": "code",
   "execution_count": null,
   "metadata": {},
   "outputs": [],
   "source": [
    "df2['Points'].min()"
   ]
  },
  {
   "cell_type": "code",
   "execution_count": null,
   "metadata": {},
   "outputs": [],
   "source": [
    "df2['Points'].max()"
   ]
  },
  {
   "cell_type": "code",
   "execution_count": null,
   "metadata": {},
   "outputs": [],
   "source": [
    "df2.to_csv(title+ '_pandas',index=False, sep=',')"
   ]
  }
 ],
 "metadata": {
  "kernelspec": {
   "display_name": "Python 3",
   "language": "python",
   "name": "python3"
  },
  "language_info": {
   "codemirror_mode": {
    "name": "ipython",
    "version": 3
   },
   "file_extension": ".py",
   "mimetype": "text/x-python",
   "name": "python",
   "nbconvert_exporter": "python",
   "pygments_lexer": "ipython3",
   "version": "3.6.7"
  }
 },
 "nbformat": 4,
 "nbformat_minor": 2
}
